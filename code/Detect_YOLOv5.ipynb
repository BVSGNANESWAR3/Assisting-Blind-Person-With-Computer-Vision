{
 "cells": [
  {
   "cell_type": "code",
   "execution_count": 23,
   "metadata": {
    "colab": {
     "base_uri": "https://localhost:8080/"
    },
    "id": "kkFhZ3Uu9KzV",
    "outputId": "55836dfd-bdc7-4494-fc58-e3d467ea2489",
    "scrolled": true
   },
   "outputs": [
    {
     "name": "stdout",
     "output_type": "stream",
     "text": [
      "\u001b[34m\u001b[1mdetect: \u001b[0mweights=['yolov5/TrainedModels/best500.pt'], source=dist.jpg, data=yolov5/data/coco128.yaml, imgsz=[416, 416], conf_thres=0.4, iou_thres=0.45, max_det=1000, device=, view_img=False, save_txt=False, save_conf=False, save_crop=False, nosave=False, classes=None, agnostic_nms=False, augment=False, visualize=False, update=False, project=yolov5/runs/detect, name=exp, exist_ok=False, line_thickness=3, hide_labels=False, hide_conf=False, half=False, dnn=False\n",
      "fatal: cannot change to '/home/rithvik/Documents/Mini': No such file or directory\n",
      "YOLOv5 🚀 2022-10-14 Python-3.10.6 torch-1.12.1+cu102 CPU\n",
      "\n",
      "Fusing layers... \n",
      "custom_YOLOv5s summary: 232 layers, 7381368 parameters, 0 gradients, 17.2 GFLOPs\n",
      "image 1/1 /home/rithvik/Documents/Mini Project/dist.jpg: 256x416 4 17s, 1 18, 4 19s, Done. (0.055s)\n",
      "Speed: 0.5ms pre-process, 54.6ms inference, 0.8ms NMS per image at shape (1, 3, 416, 416)\n",
      "Results saved to \u001b[1myolov5/runs/detect/exp109\u001b[0m\n"
     ]
    }
   ],
   "source": [
    "!python3 yolov5/detect.py --weights yolov5/TrainedModels/best500.pt --img 416 --conf 0.4 --source dist.jpg"
   ]
  },
  {
   "cell_type": "code",
   "execution_count": null,
   "metadata": {},
   "outputs": [],
   "source": []
  }
 ],
 "metadata": {
  "accelerator": "GPU",
  "colab": {
   "collapsed_sections": [],
   "provenance": []
  },
  "kernelspec": {
   "display_name": "Python 3 (ipykernel)",
   "language": "python",
   "name": "python3"
  },
  "language_info": {
   "codemirror_mode": {
    "name": "ipython",
    "version": 3
   },
   "file_extension": ".py",
   "mimetype": "text/x-python",
   "name": "python",
   "nbconvert_exporter": "python",
   "pygments_lexer": "ipython3",
   "version": "3.10.6"
  }
 },
 "nbformat": 4,
 "nbformat_minor": 1
}
